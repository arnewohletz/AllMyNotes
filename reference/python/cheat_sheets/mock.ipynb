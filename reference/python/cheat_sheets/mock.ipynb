{
 "cells": [
  {
   "cell_type": "markdown",
   "id": "95d327f6463954ae",
   "metadata": {
    "collapsed": false
   },
   "source": [
    "# unittest.mock\n",
    "## Basic methods\n",
    "\n",
    "### Create a Mock object"
   ]
  },
  {
   "cell_type": "code",
   "execution_count": 1,
   "id": "14814ab188445f3",
   "metadata": {
    "collapsed": false,
    "execution": {
     "iopub.execute_input": "2024-06-18T11:16:14.972925Z",
     "iopub.status.busy": "2024-06-18T11:16:14.972751Z",
     "iopub.status.idle": "2024-06-18T11:16:15.085994Z",
     "shell.execute_reply": "2024-06-18T11:16:15.085509Z"
    }
   },
   "outputs": [],
   "source": [
    "from unittest import mock\n",
    "m = mock.Mock()"
   ]
  },
  {
   "cell_type": "markdown",
   "id": "f9524ff595ff2e0f",
   "metadata": {
    "collapsed": false
   },
   "source": [
    "### Set a default return value when calling mock object"
   ]
  },
  {
   "cell_type": "code",
   "execution_count": 2,
   "id": "f7552c846014a6a8",
   "metadata": {
    "collapsed": false,
    "execution": {
     "iopub.execute_input": "2024-06-18T11:16:15.087946Z",
     "iopub.status.busy": "2024-06-18T11:16:15.087777Z",
     "iopub.status.idle": "2024-06-18T11:16:15.093209Z",
     "shell.execute_reply": "2024-06-18T11:16:15.092651Z"
    }
   },
   "outputs": [
    {
     "data": {
      "text/plain": [
       "42"
      ]
     },
     "execution_count": 2,
     "metadata": {},
     "output_type": "execute_result"
    }
   ],
   "source": [
    "m.return_value = 42\n",
    "m()"
   ]
  },
  {
   "cell_type": "markdown",
   "id": "a2a67f3504a7e7cf",
   "metadata": {
    "collapsed": false
   },
   "source": [
    "### Assign different return values for successive calls"
   ]
  },
  {
   "cell_type": "code",
   "execution_count": 3,
   "id": "3b52fbead5a78a8f",
   "metadata": {
    "collapsed": false,
    "execution": {
     "iopub.execute_input": "2024-06-18T11:16:15.095280Z",
     "iopub.status.busy": "2024-06-18T11:16:15.094957Z",
     "iopub.status.idle": "2024-06-18T11:16:15.098144Z",
     "shell.execute_reply": "2024-06-18T11:16:15.097620Z"
    }
   },
   "outputs": [
    {
     "name": "stdout",
     "output_type": "stream",
     "text": [
      "foo\n",
      "bar\n",
      "baz\n"
     ]
    }
   ],
   "source": [
    "m.side_effect = ['foo', 'bar', 'baz']\n",
    "print(m())\n",
    "print(m())\n",
    "print(m())"
   ]
  },
  {
   "cell_type": "markdown",
   "id": "52496c2dbd7d6040",
   "metadata": {
    "collapsed": false
   },
   "source": [
    "### Check whether mock object has been called at least once"
   ]
  },
  {
   "cell_type": "code",
   "execution_count": 4,
   "id": "3940370ed5ab33c1",
   "metadata": {
    "collapsed": false,
    "execution": {
     "iopub.execute_input": "2024-06-18T11:16:15.100046Z",
     "iopub.status.busy": "2024-06-18T11:16:15.099879Z",
     "iopub.status.idle": "2024-06-18T11:16:15.102565Z",
     "shell.execute_reply": "2024-06-18T11:16:15.102151Z"
    }
   },
   "outputs": [],
   "source": [
    "m = mock.Mock()\n",
    "m()\n",
    "m.assert_called()"
   ]
  },
  {
   "cell_type": "markdown",
   "id": "3c9e3f6277db5b71",
   "metadata": {
    "collapsed": false
   },
   "source": [
    "Returns *None*, if called, otherwise raises *AssertionError*\n",
    "\n",
    "### Check whether mock object has been called exactly once"
   ]
  },
  {
   "cell_type": "code",
   "execution_count": 5,
   "id": "40b4ddc36efb036c",
   "metadata": {
    "collapsed": false,
    "execution": {
     "iopub.execute_input": "2024-06-18T11:16:15.104619Z",
     "iopub.status.busy": "2024-06-18T11:16:15.104293Z",
     "iopub.status.idle": "2024-06-18T11:16:15.108127Z",
     "shell.execute_reply": "2024-06-18T11:16:15.107630Z"
    }
   },
   "outputs": [
    {
     "name": "stdout",
     "output_type": "stream",
     "text": [
      "No, I wasn't called (yet)\n",
      "Yeah, now I was called\n"
     ]
    }
   ],
   "source": [
    "m = mock.Mock()\n",
    "try:\n",
    "    m.assert_called_once()\n",
    "except AssertionError:\n",
    "    print(\"No, I wasn't called (yet)\")\n",
    "m()\n",
    "if not m.assert_called_once():\n",
    "    print(\"Yeah, now I was called\")"
   ]
  },
  {
   "cell_type": "markdown",
   "id": "6b2ec508d9046b42",
   "metadata": {
    "collapsed": false
   },
   "source": [
    "### Get number of call to mock object"
   ]
  },
  {
   "cell_type": "code",
   "execution_count": 6,
   "id": "a82ddaa3883f2e2f",
   "metadata": {
    "collapsed": false,
    "execution": {
     "iopub.execute_input": "2024-06-18T11:16:15.110187Z",
     "iopub.status.busy": "2024-06-18T11:16:15.109807Z",
     "iopub.status.idle": "2024-06-18T11:16:15.113731Z",
     "shell.execute_reply": "2024-06-18T11:16:15.113188Z"
    }
   },
   "outputs": [
    {
     "data": {
      "text/plain": [
       "2"
      ]
     },
     "execution_count": 6,
     "metadata": {},
     "output_type": "execute_result"
    }
   ],
   "source": [
    "m = mock.Mock()\n",
    "m()\n",
    "m()\n",
    "m.call_count"
   ]
  },
  {
   "cell_type": "markdown",
   "id": "75cb3d8793e0def1",
   "metadata": {
    "collapsed": false
   },
   "source": [
    "### Get call arguments of last mock call"
   ]
  },
  {
   "cell_type": "code",
   "execution_count": 7,
   "id": "c83c4b94f4e3c6af",
   "metadata": {
    "collapsed": false,
    "execution": {
     "iopub.execute_input": "2024-06-18T11:16:15.115711Z",
     "iopub.status.busy": "2024-06-18T11:16:15.115413Z",
     "iopub.status.idle": "2024-06-18T11:16:15.119296Z",
     "shell.execute_reply": "2024-06-18T11:16:15.118863Z"
    }
   },
   "outputs": [
    {
     "data": {
      "text/plain": [
       "call(1, foo='bar')"
      ]
     },
     "execution_count": 7,
     "metadata": {},
     "output_type": "execute_result"
    }
   ],
   "source": [
    "m = mock.Mock()\n",
    "m(1, foo='bar')\n",
    "m.call_args"
   ]
  },
  {
   "cell_type": "markdown",
   "id": "5f7e1f02c7b6e400",
   "metadata": {
    "collapsed": false
   },
   "source": [
    "If mock object hasn't been called yet, *None* is returned.\n",
    "\n",
    "### Get call arguments of all mock calls"
   ]
  },
  {
   "cell_type": "code",
   "execution_count": 8,
   "id": "edf79f0b9313803b",
   "metadata": {
    "collapsed": false,
    "execution": {
     "iopub.execute_input": "2024-06-18T11:16:15.121117Z",
     "iopub.status.busy": "2024-06-18T11:16:15.120925Z",
     "iopub.status.idle": "2024-06-18T11:16:15.125169Z",
     "shell.execute_reply": "2024-06-18T11:16:15.124605Z"
    }
   },
   "outputs": [
    {
     "data": {
      "text/plain": [
       "[call(), call(1, foo='bar'), call(4, baz='bar2')]"
      ]
     },
     "execution_count": 8,
     "metadata": {},
     "output_type": "execute_result"
    }
   ],
   "source": [
    "m = mock.Mock()\n",
    "m()\n",
    "m(1, foo='bar')\n",
    "m(4, baz='bar2')\n",
    "m.call_args_list"
   ]
  },
  {
   "cell_type": "markdown",
   "id": "bb569654bcce9cdf",
   "metadata": {
    "collapsed": false
   },
   "source": [
    "### Reset call previous call (won't change mock configuration)"
   ]
  },
  {
   "cell_type": "code",
   "execution_count": 9,
   "id": "8240bb6e6e870b95",
   "metadata": {
    "collapsed": false,
    "execution": {
     "iopub.execute_input": "2024-06-18T11:16:15.127113Z",
     "iopub.status.busy": "2024-06-18T11:16:15.126944Z",
     "iopub.status.idle": "2024-06-18T11:16:15.131130Z",
     "shell.execute_reply": "2024-06-18T11:16:15.130611Z"
    }
   },
   "outputs": [
    {
     "data": {
      "text/plain": [
       "[]"
      ]
     },
     "execution_count": 9,
     "metadata": {},
     "output_type": "execute_result"
    }
   ],
   "source": [
    "m = mock.Mock()\n",
    "m()\n",
    "m(1, foo='bar')\n",
    "m(4, baz='bar2')\n",
    "m.reset_mock()\n",
    "m.call_args_list"
   ]
  },
  {
   "cell_type": "markdown",
   "id": "e29ec97a187f04b8",
   "metadata": {
    "collapsed": false
   },
   "source": [
    "## Patching an import module from a project module in our unit test\n",
    "### Project module (work.py)\n",
    "\n",
    "```python\n",
    "import os\n",
    "\n",
    "def work_on():\n",
    "    path = os.getcwd()\n",
    "    print(f'Working on {path}')\n",
    "    return path\n",
    "```\n",
    "\n",
    "The project module imports *os* and uses its *getcwd()* method , which\n",
    "we want to mock in our test.\n",
    "\n",
    "### Defining the unit test\n",
    "\n",
    "```python\n",
    "from unittest import TestCase, mock\n",
    "\n",
    "from work import work_on\n",
    "\n",
    "class TestWorkMockingModule(TestCase):\n",
    "\n",
    "    def test_using_context_manager(self):\n",
    "        with mock.patch('work.os') as mocked_os:\n",
    "            work_on()\n",
    "            mocked_os.getcwd.assert_called_once()\n",
    "```\n",
    "\n",
    "* The test module imports the project module's method *work_on()*\n",
    "* At the beginning of the test, the work.os module (which is the os module in\n",
    "  our work.py module) is patched with [MagickMock][1] object (here called *mocked_os*)\n",
    "* When the *work_on()* method is called afterward, the *MagicMock* object is\n",
    "  returned instead of the original module (os)\n",
    "* The returned *MagicMock* object assigned the attribute name to the function\n",
    "  that is called on the patched module (here: *os.getcwd()*)\n",
    "\n",
    "[1]: https://docs.python.org/3/library/unittest.mock.html?highlight=magicmock#unittest.mock.MagicMock\n",
    "\n",
    "### Executing the test\n",
    "\n",
    "```python\n",
    "import unittest\n",
    "unittest.main(argv=[''], verbosity=2, exit=False)\n",
    "```\n",
    "\n",
    "Alternatively, the :ulined:`patch decorator` can be used:\n",
    "\n",
    "```python\n",
    "@mock.patch('work.os')\n",
    "def test_using_decorator(self, mocked_os):\n",
    "    work_on()\n",
    "    mocked_os.getcwd.assert_called_once()\n",
    "\n",
    "```\n",
    "\n",
    "To define a **return value** for the mocked *os.getcwd()* function, define it\n",
    "like this:\n",
    "\n",
    "```python\n",
    "def test_using_return_value(self):\n",
    "    \"\"\"Note 'as' in the context manager is optional\"\"\"\n",
    "    with mock.patch('work.os.getcwd', return_value='testing'):\n",
    "        assert work_on() == 'testing'\n",
    "```\n",
    "\n",
    "Applying a `return_value='testing'` will return the string when\n",
    "calling the `work.os.getcwd()` function.\n",
    "\n",
    "Running the test leads to this output:\n",
    "\n",
    "```python\n",
    "import unittest\n",
    "unittest.main()\n",
    "```\n",
    "```\n",
    "Working on testing\n",
    "```\n",
    "\n",
    "## Patching classes\n",
    "To test project classes that interact with other project classes in isolation,\n",
    "the other project classes must be mocked (in order to determine test failure\n",
    "to a specific class and method, not it's depending classes).\n",
    "\n",
    "Example:\n",
    "\n",
    "### Project module (worker.py)\n",
    "\n",
    "```python\n",
    "```\n",
    "\n",
    "*NEEDS TO BE CONTINUED...*"
   ]
  }
 ],
 "metadata": {
  "kernelspec": {
   "display_name": "Python 3",
   "language": "python",
   "name": "python3"
  },
  "language_info": {
   "codemirror_mode": {
    "name": "ipython",
    "version": 3
   },
   "file_extension": ".py",
   "mimetype": "text/x-python",
   "name": "python",
   "nbconvert_exporter": "python",
   "pygments_lexer": "ipython3",
   "version": "3.11.9"
  }
 },
 "nbformat": 4,
 "nbformat_minor": 5
}
