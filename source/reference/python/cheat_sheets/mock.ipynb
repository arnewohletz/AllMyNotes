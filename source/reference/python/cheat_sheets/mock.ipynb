{
 "cells": [
  {
   "cell_type": "markdown",
   "source": [
    "# unittest.mock\n",
    "## Basic methods\n",
    "\n",
    "### Create a Mock object"
   ],
   "metadata": {
    "collapsed": false
   },
   "id": "95d327f6463954ae"
  },
  {
   "cell_type": "code",
   "source": [
    "from unittest import mock\n",
    "m = mock.Mock()"
   ],
   "metadata": {
    "collapsed": false,
    "ExecuteTime": {
     "end_time": "2024-08-16T13:32:27.082706Z",
     "start_time": "2024-08-16T13:32:27.044745Z"
    }
   },
   "id": "14814ab188445f3",
   "outputs": [],
   "execution_count": 2
  },
  {
   "cell_type": "markdown",
   "source": [
    "### Set a default return value when calling mock object"
   ],
   "metadata": {
    "collapsed": false
   },
   "id": "f9524ff595ff2e0f"
  },
  {
   "cell_type": "code",
   "source": [
    "m.return_value = 42\n",
    "m()"
   ],
   "metadata": {
    "collapsed": false,
    "ExecuteTime": {
     "end_time": "2024-08-16T13:32:27.159647Z",
     "start_time": "2024-08-16T13:32:27.139925Z"
    }
   },
   "id": "f7552c846014a6a8",
   "outputs": [
    {
     "data": {
      "text/plain": [
       "42"
      ]
     },
     "execution_count": 3,
     "metadata": {},
     "output_type": "execute_result"
    }
   ],
   "execution_count": 3
  },
  {
   "cell_type": "markdown",
   "source": [
    "### Assign different return values for successive calls"
   ],
   "metadata": {
    "collapsed": false
   },
   "id": "a2a67f3504a7e7cf"
  },
  {
   "cell_type": "code",
   "source": [
    "m.side_effect = ['foo', 'bar', 'baz']\n",
    "print(m())\n",
    "print(m())\n",
    "print(m())"
   ],
   "metadata": {
    "collapsed": false,
    "ExecuteTime": {
     "end_time": "2024-08-16T13:32:27.385697Z",
     "start_time": "2024-08-16T13:32:27.372270Z"
    }
   },
   "id": "3b52fbead5a78a8f",
   "outputs": [
    {
     "name": "stdout",
     "output_type": "stream",
     "text": [
      "foo\n",
      "bar\n",
      "baz\n"
     ]
    }
   ],
   "execution_count": 4
  },
  {
   "cell_type": "markdown",
   "source": [
    "### Check whether mock object has been called at least once"
   ],
   "metadata": {
    "collapsed": false
   },
   "id": "52496c2dbd7d6040"
  },
  {
   "cell_type": "code",
   "source": [
    "m = mock.Mock()\n",
    "m()\n",
    "m.assert_called()"
   ],
   "metadata": {
    "collapsed": false,
    "ExecuteTime": {
     "end_time": "2024-08-16T13:32:27.539316Z",
     "start_time": "2024-08-16T13:32:27.522598Z"
    }
   },
   "id": "3940370ed5ab33c1",
   "outputs": [],
   "execution_count": 5
  },
  {
   "cell_type": "markdown",
   "source": [
    "Returns *None*, if called, otherwise raises *AssertionError*\n",
    "\n",
    "### Check whether mock object has been called exactly once"
   ],
   "metadata": {
    "collapsed": false
   },
   "id": "3c9e3f6277db5b71"
  },
  {
   "cell_type": "code",
   "source": [
    "m = mock.Mock()\n",
    "try:\n",
    "    m.assert_called_once()\n",
    "except AssertionError:\n",
    "    print(\"No, I wasn't called (yet)\")\n",
    "m()\n",
    "if not m.assert_called_once():\n",
    "    print(\"Yeah, now I was called\")"
   ],
   "metadata": {
    "collapsed": false,
    "ExecuteTime": {
     "end_time": "2024-08-16T13:32:27.569960Z",
     "start_time": "2024-08-16T13:32:27.560006Z"
    }
   },
   "id": "40b4ddc36efb036c",
   "outputs": [
    {
     "name": "stdout",
     "output_type": "stream",
     "text": [
      "No, I wasn't called (yet)\n",
      "Yeah, now I was called\n"
     ]
    }
   ],
   "execution_count": 6
  },
  {
   "cell_type": "markdown",
   "source": "### Get number of calls to mock object",
   "metadata": {
    "collapsed": false
   },
   "id": "6b2ec508d9046b42"
  },
  {
   "cell_type": "code",
   "source": [
    "m = mock.Mock()\n",
    "m()\n",
    "m()\n",
    "m.call_count"
   ],
   "metadata": {
    "collapsed": false,
    "ExecuteTime": {
     "end_time": "2024-08-16T13:32:27.635775Z",
     "start_time": "2024-08-16T13:32:27.624658Z"
    }
   },
   "id": "a82ddaa3883f2e2f",
   "outputs": [
    {
     "data": {
      "text/plain": [
       "2"
      ]
     },
     "execution_count": 7,
     "metadata": {},
     "output_type": "execute_result"
    }
   ],
   "execution_count": 7
  },
  {
   "cell_type": "markdown",
   "source": [
    "### Get call arguments of last mock call"
   ],
   "metadata": {
    "collapsed": false
   },
   "id": "75cb3d8793e0def1"
  },
  {
   "cell_type": "code",
   "source": [
    "m = mock.Mock()\n",
    "m(1, foo='bar')\n",
    "m.call_args"
   ],
   "metadata": {
    "collapsed": false,
    "ExecuteTime": {
     "end_time": "2024-08-16T13:32:27.748377Z",
     "start_time": "2024-08-16T13:32:27.736282Z"
    }
   },
   "id": "c83c4b94f4e3c6af",
   "outputs": [
    {
     "data": {
      "text/plain": [
       "call(1, foo='bar')"
      ]
     },
     "execution_count": 8,
     "metadata": {},
     "output_type": "execute_result"
    }
   ],
   "execution_count": 8
  },
  {
   "cell_type": "markdown",
   "source": [
    "If mock object hasn't been called yet, *None* is returned.\n",
    "\n",
    "### Get call arguments of all mock calls"
   ],
   "metadata": {
    "collapsed": false
   },
   "id": "5f7e1f02c7b6e400"
  },
  {
   "cell_type": "code",
   "source": [
    "m = mock.Mock()\n",
    "m()\n",
    "m(1, foo='bar')\n",
    "m(4, baz='bar2')\n",
    "m.call_args_list"
   ],
   "metadata": {
    "collapsed": false,
    "ExecuteTime": {
     "end_time": "2024-08-16T13:32:27.821866Z",
     "start_time": "2024-08-16T13:32:27.803698Z"
    }
   },
   "id": "edf79f0b9313803b",
   "outputs": [
    {
     "data": {
      "text/plain": [
       "[call(), call(1, foo='bar'), call(4, baz='bar2')]"
      ]
     },
     "execution_count": 9,
     "metadata": {},
     "output_type": "execute_result"
    }
   ],
   "execution_count": 9
  },
  {
   "cell_type": "markdown",
   "source": [
    "### Reset call previous call (won't change mock configuration)"
   ],
   "metadata": {
    "collapsed": false
   },
   "id": "bb569654bcce9cdf"
  },
  {
   "cell_type": "code",
   "source": [
    "m = mock.Mock()\n",
    "m()\n",
    "m(1, foo='bar')\n",
    "m(4, baz='bar2')\n",
    "m.reset_mock()\n",
    "m.call_args_list"
   ],
   "metadata": {
    "collapsed": false,
    "ExecuteTime": {
     "end_time": "2024-08-16T13:32:27.888713Z",
     "start_time": "2024-08-16T13:32:27.875650Z"
    }
   },
   "id": "8240bb6e6e870b95",
   "outputs": [
    {
     "data": {
      "text/plain": [
       "[]"
      ]
     },
     "execution_count": 10,
     "metadata": {},
     "output_type": "execute_result"
    }
   ],
   "execution_count": 10
  },
  {
   "cell_type": "markdown",
   "source": [
    "## Patching an import module from a project module in our unit test\n",
    "### Project module (work.py)\n",
    "\n",
    "```python\n",
    "import os\n",
    "\n",
    "def work_on():\n",
    "    path = os.getcwd()\n",
    "    print(f'Working on {path}')\n",
    "    return path\n",
    "```\n",
    "\n",
    "The project module imports *os* and uses its *getcwd()* method , which\n",
    "we want to mock in our test.\n",
    "\n",
    "### Defining the unit test\n",
    "\n",
    "```python\n",
    "from unittest import TestCase, mock\n",
    "\n",
    "from work import work_on\n",
    "\n",
    "class TestWorkMockingModule(TestCase):\n",
    "\n",
    "    def test_using_context_manager(self):\n",
    "        with mock.patch('work.os') as mocked_os:\n",
    "            work_on()\n",
    "            mocked_os.getcwd.assert_called_once()\n",
    "```\n",
    "\n",
    "* The test module imports the project module's method *work_on()*\n",
    "* At the beginning of the test, the work.os module (which is the os module in\n",
    "  our work.py module) is patched with [MagickMock][1] object (here called *mocked_os*)\n",
    "* When the *work_on()* method is called afterward, the *MagicMock* object is\n",
    "  returned instead of the original module (os)\n",
    "* The returned *MagicMock* object assigned the attribute name to the function\n",
    "  that is called on the patched module (here: *os.getcwd()*)\n",
    "\n",
    "[1]: https://docs.python.org/3/library/unittest.mock.html?highlight=magicmock#unittest.mock.MagicMock\n",
    "\n",
    "### Executing the test\n",
    "\n",
    "```python\n",
    "import unittest\n",
    "unittest.main(argv=[''], verbosity=2, exit=False)\n",
    "```\n",
    "\n",
    "Alternatively, the :ulined:`patch decorator` can be used:\n",
    "\n",
    "```python\n",
    "@mock.patch('work.os')\n",
    "def test_using_decorator(self, mocked_os):\n",
    "    work_on()\n",
    "    mocked_os.getcwd.assert_called_once()\n",
    "\n",
    "```\n",
    "\n",
    "To define a **return value** for the mocked *os.getcwd()* function, define it\n",
    "like this:\n",
    "\n",
    "```python\n",
    "def test_using_return_value(self):\n",
    "    \"\"\"Note 'as' in the context manager is optional\"\"\"\n",
    "    with mock.patch('work.os.getcwd', return_value='testing'):\n",
    "        assert work_on() == 'testing'\n",
    "```\n",
    "\n",
    "Applying a `return_value='testing'` will return the string when\n",
    "calling the `work.os.getcwd()` function.\n",
    "\n",
    "Running the test leads to this output:\n",
    "\n",
    "```python\n",
    "import unittest\n",
    "unittest.main()\n",
    "```\n",
    "```\n",
    "Working on testing\n",
    "```\n",
    "\n",
    "## Patching classes\n",
    "To test project classes that interact with other project classes in isolation,\n",
    "the other project classes must be mocked (in order to determine test failure\n",
    "to a specific class and method, not it's depending classes).\n",
    "\n",
    "Example:\n",
    "\n",
    "### Project module (worker.py)\n",
    "\n",
    "In this module, the `Worker` class needs to be tested for these two things:\n",
    "\n",
    "- the `Worker` calls `Helper` with `db`\n",
    "- the `Worker` returns the expected path supplied by `Helper `\n",
    "\n",
    "```python\n",
    "import os\n",
    "\n",
    "\n",
    "class Helper:\n",
    "\n",
    "    def __init__(self, path):\n",
    "        self.path = path\n",
    "\n",
    "    def get_path(self):\n",
    "        base_path = os.getcwd()\n",
    "        return os.path.join(base_path, self.path)\n",
    "\n",
    "\n",
    "class Worker:\n",
    "\n",
    "    def __init__(self):\n",
    "        self.helper = Helper('db')\n",
    "\n",
    "    def work(self):\n",
    "        path = self.helper.get_path()\n",
    "        print(f'Working on {path}')\n",
    "        return path\n",
    "```\n",
    "\n",
    "To test this, the `Worker` needs to be isolated from `Helper`,\n",
    "so that failures can be associated with the `Worker` class only.\n",
    "\n",
    "Consequently, the `Helper` class must be patched:\n",
    "\n",
    "```python\n",
    "from unittest import TestCase, mock\n",
    "from worker import Worker, Helper\n",
    "\n",
    "\n",
    "class TestWorkerModule(TestCase):\n",
    "\n",
    "    def test_patching_class(self):\n",
    "        with mock.patch('worker.Helper') as MockHelper:\n",
    "            MockHelper.return_value.get_path.return_value = 'testing'\n",
    "            worker = Worker()\n",
    "            MockHelper.assert_called_once_with('db')\n",
    "            self.assertEqual(worker.work(), 'testing')\n",
    "```\n",
    "\n",
    "Here\n",
    "\n",
    "\n",
    "*NEEDS TO BE CONTINUED...*"
   ],
   "metadata": {
    "collapsed": false
   },
   "id": "e29ec97a187f04b8"
  }
 ],
 "metadata": {
  "kernelspec": {
   "display_name": "Python 3",
   "language": "python",
   "name": "python3"
  },
  "language_info": {
   "codemirror_mode": {
    "name": "ipython",
    "version": 2
   },
   "file_extension": ".py",
   "mimetype": "text/x-python",
   "name": "python",
   "nbconvert_exporter": "python",
   "pygments_lexer": "ipython2",
   "version": "2.7.6"
  }
 },
 "nbformat": 4,
 "nbformat_minor": 5
}
